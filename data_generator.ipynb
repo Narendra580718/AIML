{
  "nbformat": 4,
  "nbformat_minor": 0,
  "metadata": {
    "colab": {
      "provenance": [],
      "authorship_tag": "ABX9TyM8RXC3NC6CyJd1cbJUAu4j",
      "include_colab_link": true
    },
    "kernelspec": {
      "name": "python3",
      "display_name": "Python 3"
    },
    "language_info": {
      "name": "python"
    }
  },
  "cells": [
    {
      "cell_type": "markdown",
      "metadata": {
        "id": "view-in-github",
        "colab_type": "text"
      },
      "source": [
        "<a href=\"https://colab.research.google.com/github/Narendra580718/AIML/blob/main/data_generator.ipynb\" target=\"_parent\"><img src=\"https://colab.research.google.com/assets/colab-badge.svg\" alt=\"Open In Colab\"/></a>"
      ]
    },
    {
      "cell_type": "markdown",
      "source": [
        "Task to do:\n",
        "- generate synthetic dataset for the demo of model building\n",
        "- preprocess and visualize the dataset\n",
        "- perfprm feature engineering\n",
        "- select machine learning model\n",
        "- train and evaluate the model"
      ],
      "metadata": {
        "id": "xhruAjcizLBP"
      }
    },
    {
      "cell_type": "code",
      "source": [
        "#generateing synthetatic dataset\n",
        "import pandas as pd\n",
        "import numpy as np\n",
        "from datetime  import datatime, timedelta"
      ],
      "metadata": {
        "id": "fD5GO3lwzRsj"
      },
      "execution_count": null,
      "outputs": []
    },
    {
      "cell_type": "code",
      "source": [
        "def generate_normal_traffic():\n",
        "    \"\"\"Generate normal network traffic data\"\"\"\n",
        "    return {\n",
        "        'timestamp': datetime.now() - timedelta(seconds=np.random.randint(0, 86400)),\n",
        "        'source_ip': f\"192.168.{np.random.randint(1, 255)}.{np.random.randint(1, 255)}\",\n",
        "        'dest_ip': f\"10.0.{np.random.randint(1, 255)}.{np.random.randint(1, 255)}\",\n",
        "        'protocol': np.random.choice(['TCP', 'UDP', 'ICMP'], p=[0.7, 0.2, 0.1]),\n",
        "        'port': np.random.randint(1, 65535),\n",
        "        'bytes': np.random.normal(1500, 500),\n",
        "        'packets': np.random.randint(1, 100),\n",
        "        'duration': np.random.exponential(30),\n",
        "        'is_attack': 0\n",
        "    }"
      ],
      "metadata": {
        "id": "XyYm3dblzT7l"
      },
      "execution_count": null,
      "outputs": []
    },
    {
      "cell_type": "code",
      "source": [
        "def generate_attack_traffic():\n",
        "    \"\"\"Generate attack network traffic data\"\"\"\n",
        "    attack_types = {\n",
        "        'ddos': {\n",
        "            'bytes': np.random.normal(15000, 1000),\n",
        "            'packets': np.random.randint(500, 1000),\n",
        "            'duration': np.random.exponential(5)\n",
        "        },\n",
        "        'port_scan': {\n",
        "            'bytes': np.random.normal(100, 20),\n",
        "            'packets': np.random.randint(1, 3),\n",
        "            'duration': np.random.exponential(0.1)\n",
        "        },\n",
        "        'brute_force': {\n",
        "            'bytes': np.random.normal(500, 100),\n",
        "            'packets': np.random.randint(10, 50),\n",
        "            'duration': np.random.exponential(1)\n",
        "        }\n",
        "    }\n",
        "\n",
        "    attack_type = np.random.choice(list(attack_types.keys()))\n",
        "    attack_params = attack_types[attack_type]\n",
        "\n",
        "    return {\n",
        "        'timestamp': datetime.now() - timedelta(seconds=np.random.randint(0, 86400)),\n",
        "        'source_ip': f\"45.{np.random.randint(1, 255)}.{np.random.randint(1, 255)}.{np.random.randint(1, 255)}\",\n",
        "        'dest_ip': f\"10.0.{np.random.randint(1, 255)}.{np.random.randint(1, 255)}\",\n",
        "        'protocol': np.random.choice(['TCP', 'UDP', 'ICMP'], p=[0.8, 0.1, 0.1]),\n",
        "        'port': np.random.randint(1, 65535),\n",
        "        'bytes': attack_params['bytes'],\n",
        "        'packets': attack_params['packets'],\n",
        "        'duration': attack_params['duration'],\n",
        "        'is_attack': 1,\n",
        "        'attack_type': attack_type\n",
        "    }"
      ],
      "metadata": {
        "id": "NZFPbPrxzUb8"
      },
      "execution_count": null,
      "outputs": []
    },
    {
      "cell_type": "code",
      "source": [
        "def generate_dataset(normal_samples=10000, attack_samples=1000):\n",
        "    normal_traffic = [generate_normal_traffic() for _ in range(normal_samples)]\n",
        "    attack_traffic = [generate_attack_traffic() for _ in range(attack_samples)]\n",
        "\n",
        "    all_traffic = normal_traffic + attack_traffic\n",
        "    df = pd.DataFrame(all_traffic)\n",
        "    return df"
      ],
      "metadata": {
        "id": "TucyKOfrzXge"
      },
      "execution_count": null,
      "outputs": []
    },
    {
      "cell_type": "code",
      "source": [
        "# Save dataset\n",
        "training_data = generate_dataset()\n",
        "training_data.to_csv('dataset/network_traffic_training.csv', index=False)"
      ],
      "metadata": {
        "id": "TgPLpAZTzZXd"
      },
      "execution_count": null,
      "outputs": []
    },
    {
      "cell_type": "code",
      "source": [
        "# Generate smaller test dataset\n",
        "test_data = generate_dataset(normal_samples=1000, attack_samples=100)\n",
        "test_data.to_csv('dataset/network_traffic_test.csv', index=False)"
      ],
      "metadata": {
        "id": "YymcCi-rzbB1"
      },
      "execution_count": null,
      "outputs": []
    },
    {
      "cell_type": "code",
      "source": [
        "from google.colab import drive\n",
        "drive.mount('/content/drive')"
      ],
      "metadata": {
        "id": "ymOMXv2pzcmb"
      },
      "execution_count": null,
      "outputs": []
    }
  ]
}